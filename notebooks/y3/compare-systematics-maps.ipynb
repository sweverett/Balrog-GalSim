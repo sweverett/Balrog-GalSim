{
 "cells": [
  {
   "cell_type": "code",
   "execution_count": null,
   "metadata": {},
   "outputs": [],
   "source": [
    "import numpy as np\n",
    "import fitsio\n",
    "from astropy.table import Table, join, vstack\n",
    "import os, sys\n",
    "from glob import glob\n",
    "import matplotlib.pyplot as plt\n",
    "import matplotlib.colors as colors\n",
    "import matplotlib.gridspec as gridspec\n",
    "from mpl_toolkits.axes_grid.inset_locator import (inset_axes, InsetPosition,\n",
    "                                                  mark_inset)\n",
    "import pandas as pd\n",
    "import h5py\n",
    "import corner\n",
    "import mpl_scatter_density\n",
    "\n",
    "# Make the norm object to define the image stretch\n",
    "from astropy.visualization import LogStretch\n",
    "from astropy.visualization.mpl_normalize import ImageNormalize\n",
    "norm = ImageNormalize(vmin=0., vmax=1000, stretch=LogStretch())\n",
    "\n",
    "import sys\n",
    "sys.path.insert(0, '/global/homes/s/severett/repos/balutils/')\n",
    "from balutils import stacked_catalogs as sc\n",
    "\n",
    "import seaborn as sb\n",
    "plt.style.use('seaborn')\n",
    "sb.set_context(\"notebook\", font_scale=1.5)"
   ]
  },
  {
   "cell_type": "markdown",
   "metadata": {},
   "source": [
    "to read this maps with healpy, they are saved with the following configuration parameters:"
   ]
  },
  {
   "cell_type": "code",
   "execution_count": null,
   "metadata": {},
   "outputs": [],
   "source": [
    "NSIDE = 4096\n",
    "Ordering = 'NEST'\n",
    "Partial = True"
   ]
  },
  {
   "cell_type": "markdown",
   "metadata": {},
   "source": [
    "So, using healpy, the maps are loaded into python with:\n",
    "\n",
    "healpix_map = healpy.read_map(filename, nest=True, partial=True)"
   ]
  },
  {
   "cell_type": "markdown",
   "metadata": {},
   "source": [
    "## Load same catalog as `galaxy-compare`"
   ]
  },
  {
   "cell_type": "code",
   "execution_count": null,
   "metadata": {},
   "outputs": [],
   "source": [
    "print('Reading Balrog...')\n",
    "outdir = '/project/projectdirs/des/severett/Balrog/paper-plots/cats/'\n",
    "bal_file = os.path.join(outdir, 'balrog_sof_galaxy_compare.fits')\n",
    "bal = fitsio.read(bal_file)"
   ]
  },
  {
   "cell_type": "code",
   "execution_count": null,
   "metadata": {},
   "outputs": [],
   "source": [
    "print('Reading GOLD...')\n",
    "gld_file = os.path.join(outdir, 'y3_gold_2_2_galaxy_compare_basic_sof_s2n_collated.fits')\n",
    "gld_cols = ['RA', 'DEC']\n",
    "gld = fitsio.read(gld_file, columns=gld_cols)"
   ]
  },
  {
   "cell_type": "code",
   "execution_count": null,
   "metadata": {},
   "outputs": [],
   "source": [
    "ls -sh /project/projectdirs/des/severett/Balrog/paper-plots/cats/"
   ]
  },
  {
   "cell_type": "markdown",
   "metadata": {},
   "source": [
    "## Load healpy maps"
   ]
  },
  {
   "cell_type": "code",
   "execution_count": null,
   "metadata": {},
   "outputs": [],
   "source": [
    "\n",
    "healpix_map = healpy.read_map(filename, nest=True, partial=True)"
   ]
  }
 ],
 "metadata": {
  "kernelspec": {
   "display_name": "balrog-plots",
   "language": "python",
   "name": "balrog-plots"
  },
  "language_info": {
   "codemirror_mode": {
    "name": "ipython",
    "version": 3
   },
   "file_extension": ".py",
   "mimetype": "text/x-python",
   "name": "python",
   "nbconvert_exporter": "python",
   "pygments_lexer": "ipython3",
   "version": "3.7.5"
  }
 },
 "nbformat": 4,
 "nbformat_minor": 4
}
