{
 "cells": [
  {
   "cell_type": "code",
   "execution_count": 3,
   "metadata": {},
   "outputs": [],
   "source": [
    "import fitsio\n",
    "import numpy as np\n",
    "from astropy.table import Table\n",
    "import matplotlib.pyplot as plt\n",
    "\n",
    "%matplotlib inline"
   ]
  },
  {
   "cell_type": "code",
   "execution_count": 5,
   "metadata": {},
   "outputs": [],
   "source": [
    "sof_file = '/project/projectdirs/des/severett/Balrog/paper-plots/cats/balrog_sof_gold_phot_scatter.fits'\n",
    "sof = Table.read(sof_file)"
   ]
  },
  {
   "cell_type": "code",
   "execution_count": 6,
   "metadata": {},
   "outputs": [
    {
     "name": "stdout",
     "output_type": "stream",
     "text": [
      "['true_id', 'true_bdf_T', 'true_bdf_flux_err', 'true_bdf_mag', 'true_bdf_g', 'true_bdf_fracdev', 'true_bdf_flux_deredden', 'true_bdf_mag_deredden', 'true_gap_flux_fwhm4asec', 'bal_id', 'meas_gapflux', 'meas_cm_T', 'meas_cm_flux_cov', 'meas_cm_flux_s2n', 'meas_cm_mag', 'meas_cm_s2n_r', 'meas_cm_fracdev', 'meas_cm_mag_deredden', 'flags_footprint', 'flags_foreground', 'flags_badregions', 'meas_FLAGS_GOLD_SOF_ONLY', 'meas_EXTENDED_CLASS_SOF', 'ext_mag', 'match_flag_1.5_asec', 'NearestNeighbors_class']\n"
     ]
    }
   ],
   "source": [
    "print(sof.colnames)"
   ]
  },
  {
   "cell_type": "code",
   "execution_count": 4,
   "metadata": {},
   "outputs": [],
   "source": [
    "df_file = 'cats/ugriz-mof02-JHK-extcorr_27May20_kNN_class.fits'\n",
    "df = Table.read(df_file)"
   ]
  },
  {
   "cell_type": "code",
   "execution_count": 7,
   "metadata": {},
   "outputs": [
    {
     "name": "stdout",
     "output_type": "stream",
     "text": [
      "['NearestNeighbors_class', 'id']\n"
     ]
    }
   ],
   "source": [
    "print(df.colnames)"
   ]
  },
  {
   "cell_type": "code",
   "execution_count": 16,
   "metadata": {},
   "outputs": [
    {
     "name": "stdout",
     "output_type": "stream",
     "text": [
      "2826988\n",
      "1567465\n",
      "44.553531886233685\n"
     ]
    }
   ],
   "source": [
    "print(len(df['NearestNeighbors_class']))\n",
    "print(len(df[~np.isnan(df['NearestNeighbors_class'])]))\n",
    "print(100. - (100. * len(df[~np.isnan(df['NearestNeighbors_class'])]) / len(df['NearestNeighbors_class'])))"
   ]
  },
  {
   "cell_type": "code",
   "execution_count": null,
   "metadata": {},
   "outputs": [],
   "source": []
  }
 ],
 "metadata": {
  "kernelspec": {
   "display_name": "balrog-plots",
   "language": "python",
   "name": "balrog-plots"
  },
  "language_info": {
   "codemirror_mode": {
    "name": "ipython",
    "version": 3
   },
   "file_extension": ".py",
   "mimetype": "text/x-python",
   "name": "python",
   "nbconvert_exporter": "python",
   "pygments_lexer": "ipython3",
   "version": "3.7.5"
  }
 },
 "nbformat": 4,
 "nbformat_minor": 4
}
