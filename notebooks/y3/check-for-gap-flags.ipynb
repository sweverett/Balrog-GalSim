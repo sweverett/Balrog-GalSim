{
 "cells": [
  {
   "cell_type": "code",
   "execution_count": 2,
   "metadata": {},
   "outputs": [],
   "source": [
    "import numpy as np\n",
    "from astropy.table import Table, join\n",
    "import fitsio\n",
    "import os, sys\n",
    "import matplotlib.pyplot as plt\n",
    "import matplotlib.colors as colors\n",
    "from astropy.io import fits\n",
    "\n",
    "import sys\n",
    "sys.path.insert(0, '/global/homes/s/severett/repos/balutils/')\n",
    "from balutils import stacked_catalogs as sc\n",
    "\n",
    "import seaborn as sb\n",
    "plt.style.use('seaborn')\n",
    "sb.set_context(\"notebook\", font_scale=1.5)"
   ]
  },
  {
   "cell_type": "code",
   "execution_count": 10,
   "metadata": {},
   "outputs": [
    {
     "name": "stdout",
     "output_type": "stream",
     "text": [
      "BALROG_RUN2_DEEP_CAT_FLAG0INVHS1BDFLT254v4.fits\n"
     ]
    }
   ],
   "source": [
    "ls /project/projectdirs/des/severett/Balrog/run2/inputs"
   ]
  },
  {
   "cell_type": "code",
   "execution_count": 12,
   "metadata": {},
   "outputs": [
    {
     "name": "stdout",
     "output_type": "stream",
     "text": [
      "\n",
      "XTENSION= 'BINTABLE'           / binary table extension\n",
      "BITPIX  =                    8 / array data type\n",
      "NAXIS   =                    2 / number of array dimensions\n",
      "NAXIS1  =                  576 / length of dimension 1\n",
      "NAXIS2  =              1230145 / length of dimension 2\n",
      "PCOUNT  =                    0 / number of group parameters\n",
      "GCOUNT  =                    1 / number of groups\n",
      "TFIELDS =                   25 / number of table fields\n",
      "TTYPE1  = 'id'                 / \n",
      "TFORM1  = 'J'                  / \n",
      "TTYPE2  = 'flags'              / \n",
      "TFORM2  = 'J'                  / \n",
      "TTYPE3  = 'bdf_flags'          / \n",
      "TFORM3  = 'J'                  / \n",
      "TTYPE4  = 'ra'                 / \n",
      "TFORM4  = 'D'                  / \n",
      "TTYPE5  = 'dec'                / \n",
      "TFORM5  = 'D'                  / \n",
      "TTYPE6  = 'psf_mag'            / \n",
      "TFORM6  = '4D'                 / \n",
      "TTYPE7  = 'bdf_T'              / \n",
      "TFORM7  = 'D'                  / \n",
      "TTYPE8  = 'bdf_T_err'          / \n",
      "TFORM8  = 'D'                  / \n",
      "TTYPE9  = 'bdf_s2n'            / \n",
      "TFORM9  = 'D'                  / \n",
      "TTYPE10 = 'bdf_flux'           / \n",
      "TFORM10 = '4D'                 / \n",
      "TTYPE11 = 'bdf_flux_err'       / \n",
      "TFORM11 = '4D'                 / \n",
      "TTYPE12 = 'mask_flags'         / \n",
      "TFORM12 = 'J'                  / \n",
      "TTYPE13 = 'bdf_mag'            / \n",
      "TFORM13 = '4D'                 / \n",
      "TTYPE14 = 'bdf_g'              / \n",
      "TFORM14 = '2D'                 / \n",
      "TTYPE15 = 'bdf_fracdev'        / \n",
      "TFORM15 = 'D'                  / \n",
      "TTYPE16 = 'bdf_flux_cov'       / \n",
      "TFORM16 = '16D'                / \n",
      "TTYPE17 = 'bdf_pars'           / \n",
      "TFORM17 = '10D'                / \n",
      "TTYPE18 = 'tilename'           / \n",
      "TFORM18 = '20A'                / \n",
      "TTYPE19 = 'gap_flux'           / \n",
      "TFORM19 = '4D'                 / \n",
      "TTYPE20 = 'gap_flux_err'       / \n",
      "TFORM20 = '4D'                 / \n",
      "TTYPE21 = 'gap_mag'            / \n",
      "TFORM21 = '4D'                 / \n",
      "TTYPE22 = 'bdf_flux_deredden'  / \n",
      "TFORM22 = '4E'                 / \n",
      "TTYPE23 = 'bdf_mag_deredden'   / \n",
      "TFORM23 = '4E'                 / \n",
      "TTYPE24 = 'in_VHS_footprint'   / \n",
      "TFORM24 = 'J'                  / \n",
      "TTYPE25 = 'avgbdf'             / \n",
      "TFORM25 = 'D'                  / \n"
     ]
    }
   ],
   "source": [
    "run = 'y3-merged'\n",
    "ver = 1.2\n",
    "\n",
    "h = fitsio.read_header('/project/projectdirs/des/severett/Balrog/run2/inputs/BALROG_RUN2_DEEP_CAT_FLAG0INVHS1BDFLT254v4.fits', ext=1)\n",
    "print(h)"
   ]
  },
  {
   "cell_type": "code",
   "execution_count": null,
   "metadata": {},
   "outputs": [],
   "source": [
    "run = 'y3-merged'\n",
    "ver = 1.2\n",
    "\n",
    "match_file = '/project/projectdirs/des/severett/Balrog/{}/stacked_catalogs/{}/sof/balrog_matched_catalog_sof_{}_v{}.fits'.format(run, ver, run, ver)\n",
    "det_file = '/project/projectdirs/des/severett/Balrog/{}/stacked_catalogs/{}/sof/balrog_detection_catalog_sof_{}_v{}.fits'.format(run, ver, run, ver)\n",
    "\n",
    "match_cols = ['bal_id', 'true_id', 'meas_cm_mag_deredden',  'true_bdf_mag_deredden', 'true_gap_flux_fwhm4asec', 'meas_gapflux',\n",
    "              'meas_cm_fracdev', 'true_bdf_fracdev', 'meas_cm_T', 'true_bdf_T', 'meas_cm_mag', 'true_bdf_mag', 'meas_cm_flux_s2n', 'meas_cm_s2n_r',\n",
    "              'true_bdf_g', 'true_bdf_flux_deredden', 'true_bdf_flux_err', 'meas_cm_flux_cov']\n",
    "det_cols = ['bal_id', 'meas_FLAGS_GOLD_SOF_ONLY', 'flags_foreground', 'flags_footprint', 'flags_badregions', 'match_flag_1.5_asec',\n",
    "            'meas_EXTENDED_CLASS_SOF', 'ext_mag']\n",
    "# sof = sc.BalrogMatchedCatalog(match_file, det_file, match_cols=match_cols, match_type='sof_only', vb=True)\n",
    "\n",
    "print('Loading matched file...')\n",
    "match = Table(fitsio.read(match_file, columns=match_cols))\n",
    "print('Loading det file...')\n",
    "det = Table(fitsio.read(det_file, columns=det_cols))\n",
    "print('joining...')\n",
    "sof = join(match, det, keys='bal_id', join_type='inner')\n",
    "assert len(match) == len(sof)\n",
    "\n",
    "# Match to Ian's DF classifier\n",
    "df_file = 'cats/ugriz-mof02-JHK-extcorr_27May20_kNN_class.fits'\n",
    "df = Table.read(df_file)\n",
    "df.rename_column('id', 'true_id')\n",
    "\n",
    "print('Joining with df classifier...')\n",
    "sof = join(sof, df, keys='true_id', join_type='left')\n",
    "\n",
    "cuts = np.where(\n",
    "    (sof['meas_FLAGS_GOLD_SOF_ONLY'] < 2) &\n",
    "    (sof['flags_foreground'] == 0 ) &\n",
    "    (sof['flags_footprint'] == 1) &\n",
    "    (sof['flags_badregions'] < 2) &\n",
    "    (sof['meas_EXTENDED_CLASS_SOF'] > 1) &\n",
    "    (sof['match_flag_1.5_asec'] < 2)\n",
    ")\n",
    "\n",
    "print('Making cuts...')\n",
    "sof = sof[cuts]"
   ]
  }
 ],
 "metadata": {
  "kernelspec": {
   "display_name": "balrog-plots",
   "language": "python",
   "name": "balrog-plots"
  },
  "language_info": {
   "codemirror_mode": {
    "name": "ipython",
    "version": 3
   },
   "file_extension": ".py",
   "mimetype": "text/x-python",
   "name": "python",
   "nbconvert_exporter": "python",
   "pygments_lexer": "ipython3",
   "version": "3.7.5"
  }
 },
 "nbformat": 4,
 "nbformat_minor": 4
}
