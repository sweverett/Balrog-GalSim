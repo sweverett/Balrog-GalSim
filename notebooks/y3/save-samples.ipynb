{
 "cells": [
  {
   "cell_type": "code",
   "execution_count": 1,
   "metadata": {},
   "outputs": [],
   "source": [
    "import numpy as np\n",
    "import fitsio\n",
    "from astropy.table import Table, join\n",
    "import os, sys\n",
    "import matplotlib.pyplot as plt\n",
    "import matplotlib.colors as colors\n",
    "import pandas as pd\n",
    "import corner\n",
    "import mpl_scatter_density\n",
    "\n",
    "# Make the norm object to define the image stretch\n",
    "from astropy.visualization import LogStretch\n",
    "from astropy.visualization.mpl_normalize import ImageNormalize\n",
    "norm = ImageNormalize(vmin=0., vmax=1000, stretch=LogStretch())\n",
    "\n",
    "import sys\n",
    "sys.path.insert(0, '/global/homes/s/severett/repos/balutils/')\n",
    "from balutils import stacked_catalogs as sc\n",
    "\n",
    "import seaborn as sb\n",
    "plt.style.use('seaborn')\n",
    "sb.set_context(\"notebook\", font_scale=1.5)"
   ]
  },
  {
   "cell_type": "code",
   "execution_count": 2,
   "metadata": {},
   "outputs": [],
   "source": [
    "def calc_gold_cuts(cat, flags_gold_colname='FLAGS_GOLD_SOF_ONLY'):\n",
    "    gold_cuts = np.where( \n",
    "                          (cat['match_flag_1.5_asec'] < 2) &\n",
    "                          (cat['flags_foreground'] == 0) &\n",
    "                          (cat['flags_badregions'] < 2) &\n",
    "                          (cat['flags_footprint'] == 1) &\n",
    "                          (cat[flags_gold_colname] < 2)\n",
    "                        )\n",
    "    return gold_cuts\n",
    "\n",
    "def calc_gold_photometry_cuts(cat, flags_gold_colname='FLAGS_GOLD_SOF_ONLY'):\n",
    "    gold_phot_cuts = np.where( \n",
    "                          (cat['match_flag_1.5_asec'] < 2) &\n",
    "                          (cat['flags_foreground'] == 0) &\n",
    "                          (cat['flags_badregions'] < 2) &\n",
    "                          (cat['flags_footprint'] == 1) &\n",
    "                          (cat[flags_gold_colname] < 8)\n",
    "                        )\n",
    "    return gold_phot_cuts\n",
    "\n",
    "def calc_shape_cuts(cat):\n",
    "    shape_cuts = np.where( (cat['flags'] == 0) &\n",
    "                           (cat['size_ratio'] > 0.5) &\n",
    "                           (cat['snr'] > 10) &\n",
    "                           (cat['snr'] < 1000)\n",
    "                          )\n",
    "    return shape_cuts"
   ]
  },
  {
   "cell_type": "code",
   "execution_count": null,
   "metadata": {},
   "outputs": [
    {
     "name": "stdout",
     "output_type": "stream",
     "text": [
      "Loading matched file...\n"
     ]
    }
   ],
   "source": [
    "run = 'y3-merged'\n",
    "ver = '1.2'\n",
    "\n",
    "match_file = '/project/projectdirs/des/severett/Balrog/{}/stacked_catalogs/{}/sof/balrog_matched_catalog_sof_{}_v{}.fits'.format(run, ver, run, ver)\n",
    "det_file = '/project/projectdirs/des/severett/Balrog/{}/stacked_catalogs/{}/sof/balrog_detection_catalog_sof_{}_v{}.fits'.format(run, ver, run, ver)\n",
    "\n",
    "match_cols = ['bal_id', 'meas_cm_mag_deredden',  'true_bdf_mag_deredden', 'true_gap_flux_fwhm4asec', 'meas_gapflux']\n",
    "det_cols = ['bal_id', 'meas_FLAGS_GOLD_SOF_ONLY', 'flags_foreground', 'flags_footprint', 'flags_badregions', 'match_flag_1.5_asec']\n",
    "# sof = sc.BalrogMatchedCatalog(match_file, det_file, match_cols=match_cols, match_type='sof_only', vb=True)\n",
    "\n",
    "print('Loading matched file...')\n",
    "match = Table(fitsio.read(match_file))\n",
    "print('Loading det file...')\n",
    "det = Table(fitsio.read(det_file))\n",
    "print('joining...')\n",
    "sof = join(match, det, keys='bal_id', join_type='inner')\n",
    "assert len(match) == len(sof)"
   ]
  },
  {
   "cell_type": "code",
   "execution_count": null,
   "metadata": {},
   "outputs": [],
   "source": [
    "gold_cuts = calc_gold_cuts(sof)\n",
    "gold_photometry_cuts = calc_gold_photometry_cuts(sof)\n",
    "shape_cuts = calc_shape_cuts(sof)\n",
    "\n",
    "print('Making gold cuts...')\n",
    "gold = sof[gold_cuts]\n",
    "print('Writing...')\n",
    "gold_outfile = '/project/projectdirs/des/severett/Balrog/{}/stacked_catalogs/{}/sof/joined_balrog_gold_sample.fits'.format(run, ver, run, ver)\n",
    "gold.write(gold_outfile)\n",
    "\n",
    "print('Making gold_photometry cuts...')\n",
    "gold_phot = sof[gold_photometry_cuts]\n",
    "print('Writing...')\n",
    "gold_phot_outfile = '/project/projectdirs/des/severett/Balrog/{}/stacked_catalogs/{}/sof/joined_balrog_gold_photometry_sample.fits'.format(run, ver, run, ver)\n",
    "gold_phot.write(gold_phot_outfile)"
   ]
  },
  {
   "cell_type": "code",
   "execution_count": null,
   "metadata": {},
   "outputs": [],
   "source": []
  }
 ],
 "metadata": {
  "kernelspec": {
   "display_name": "balrog-plots",
   "language": "python",
   "name": "balrog-plots"
  },
  "language_info": {
   "codemirror_mode": {
    "name": "ipython",
    "version": 3
   },
   "file_extension": ".py",
   "mimetype": "text/x-python",
   "name": "python",
   "nbconvert_exporter": "python",
   "pygments_lexer": "ipython3",
   "version": "3.7.5"
  }
 },
 "nbformat": 4,
 "nbformat_minor": 4
}
