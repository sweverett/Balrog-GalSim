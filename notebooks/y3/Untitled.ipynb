{
 "cells": [
  {
   "cell_type": "code",
   "execution_count": 6,
   "metadata": {},
   "outputs": [],
   "source": [
    "import numpy as np\n",
    "import fitsio\n",
    "import matplotlib.pyplot as plt\n",
    "\n",
    "import sys\n",
    "sys.path.insert(0, '/global/homes/s/severett/repos/balutils/')\n",
    "from balutils import stacked_catalogs as sc\n",
    "\n",
    "import seaborn as sb\n",
    "plt.style.use('seaborn')\n",
    "sb.set_context(\"notebook\", font_scale=1.5)\n",
    "\n",
    "%matplotlib inline"
   ]
  },
  {
   "cell_type": "code",
   "execution_count": 7,
   "metadata": {},
   "outputs": [
    {
     "name": "stdout",
     "output_type": "stream",
     "text": [
      "Warning: Detection catalog has 1 duplicate(s)!\n",
      "Removing the following duplicates from detection catalog:\n",
      "     bal_id    \n",
      "---------------\n",
      "100323010415992\n",
      "1 duplicates removed, catalog size now 19959471\n"
     ]
    }
   ],
   "source": [
    "run = 'run2' \n",
    "ver = '1.4'\n",
    "\n",
    "balrog_det_file = '/project/projectdirs/des/severett/Balrog/{}/stacked_catalogs/{}/sof/balrog_detection_catalog_sof_{}_v{}.fits'.format(run, ver, run, ver)\n",
    "det = sc.BalrogDetectionCatalog(balrog_det_file, match_type='sof_only')\n",
    "\n",
    "cuts = np.where( (det['meas_FLAGS_GOLD_SOF_ONLY'] < 2) &\n",
    "                 (det['flags_badregions'] < 2) &\n",
    "                 (det['flags_foreground'] == 0) &\n",
    "                 (det['flags_footprint'] == 1) &\n",
    "                 (det['match_flag_1.5_asec'] < 2))\n",
    "sample = det[cuts]"
   ]
  },
  {
   "cell_type": "code",
   "execution_count": 10,
   "metadata": {},
   "outputs": [],
   "source": [
    "def plot_detection_efficiency(cat, bands='griz', xlim=[16.0, 30.0], ylim=[0.0, 1.0],\n",
    "                              S=8, title=None, cmap='inferno', dim=2, dx=0.1,\n",
    "                              vline=None, p='cm', mcol='true_bdf_mag_deredden'):\n",
    "    \n",
    "    bindx = dict(zip('griz', range(4)))\n",
    "\n",
    "    N = 2. / (dx) + 1\n",
    "    mag_min, mag_max = xlim[0], xlim[1]\n",
    "    bins = np.linspace(mag_min, mag_max, N)\n",
    "\n",
    "    IN_BIN = {}\n",
    "    DET = {}\n",
    "    EFF = {}\n",
    "    EFF_ERR = {}\n",
    "    MAG = {}\n",
    "\n",
    "    for x in [IN_BIN, DET, EFF, EFF_ERR, MAG]:\n",
    "        for band in bands:\n",
    "            x[band] = []\n",
    "\n",
    "    for band in bands:\n",
    "        print('Band {}'.format(band))\n",
    "        bi = bindx[band]\n",
    "        for i, bstart in enumerate(bins):\n",
    "            if i == len(bins)-1:\n",
    "                break\n",
    "            else:\n",
    "                # print 'i, bins[i], bins[i+1] = ',i, bins[i], bins[i+1]\n",
    "\n",
    "                in_bin = len(cat[(bins[i]<=cat[mcol][:,bi]) & (cat[mcol][:,bi]<bins[i+1])])\n",
    "                det = len(cat[(bins[i]<=cat[mcol][:,bi]) &\n",
    "                        (cat[mcol][:,bi]<bins[i+1]) &\n",
    "                        (cat['detected']==1)])\n",
    "            try:\n",
    "                eff = 100. * det / in_bin\n",
    "            except ZeroDivisionError:\n",
    "                eff = 0.0\n",
    "\n",
    "            mag = np.mean([bins[i], bins[i+1]])\n",
    "\n",
    "            try:\n",
    "                eff_err = eff * np.sqrt( (1. / det) + (1. / det) )\n",
    "            except ZeroDivisionError:\n",
    "                eff_err = 0.0\n",
    "\n",
    "            IN_BIN[band].append(in_bin)\n",
    "            DET[band].append(det)\n",
    "            EFF[band].append(eff)\n",
    "            EFF_ERR[band].append(eff_err)\n",
    "            MAG[band].append(mag)\n",
    "\n",
    "    bk = 0\n",
    "    for band in bands:\n",
    "        # ax = plt.subplot(2, 2, bi+1)\n",
    "\n",
    "        plt.errorbar(MAG[band], EFF[band], EFF_ERR[band], fmt='o', ms=8, label=band)\n",
    "        # plt.gca().axhline(0, ls='--', c='k', lw=4)\n",
    "        # med = np.median(diff[cuts])\n",
    "        # ax.axhline(med, ls=':', c='w', lw=3, label='Median={:.3f}'.format(med))\n",
    "        # cb = plt.colorbar(hb, ax=ax)\n",
    "        # legend = plt.legend(bbox_to_anchor=(0.6, 0.925), bbox_transform=ax.transAxes, fontsize=18)\n",
    "        # plt.setp(legend.get_texts(), color='w')\n",
    "\n",
    "        # label = val\n",
    "        # if self.use_deredden is True:\n",
    "        #     label += ' (dereddened)'\n",
    "\n",
    "        # for item in ([ax.title, ax.xaxis.label, ax.yaxis.label] +\n",
    "        #             ax.get_xticklabels() + ax.get_yticklabels()):\n",
    "        #     item.set_fontsize(20)\n",
    "\n",
    "    if title: plt.suptitle(title)\n",
    "    ax = plt.gca()\n",
    "    ax.set_xlabel('True bdf_mag_deredden')\n",
    "    ax.set_ylabel('Detection Efficiency')\n",
    "    plt.legend()\n",
    "\n",
    "    if vline is not None:\n",
    "        plt.axvline(vline, linewidth=2, ls='--', color='k')\n",
    "\n",
    "    plt.gcf().set_size_inches(S, S)\n",
    "\n",
    "    return"
   ]
  },
  {
   "cell_type": "code",
   "execution_count": 14,
   "metadata": {},
   "outputs": [
    {
     "name": "stdout",
     "output_type": "stream",
     "text": [
      "Band i\n"
     ]
    },
    {
     "data": {
      "image/png": "[encoded data removed]",
      "text/plain": [
       "<Figure size 504x504 with 1 Axes>"
      ]
     },
     "metadata": {
      "needs_background": "light"
     },
     "output_type": "display_data"
    }
   ],
   "source": [
    "plot_detection_efficiency(sample, bands='i', xlim=[18,27], dx=0.05, S=7, vline=25.4)"
   ]
  },
  {
   "cell_type": "code",
   "execution_count": 25,
   "metadata": {},
   "outputs": [
    {
     "name": "stdout",
     "output_type": "stream",
     "text": [
      "Band i\n"
     ]
    },
    {
     "data": {
      "image/png": "[encoded data removed]",
      "text/plain": [
       "<Figure size 576x576 with 1 Axes>"
      ]
     },
     "metadata": {
      "needs_background": "light"
     },
     "output_type": "display_data"
    }
   ],
   "source": [
    "xlim=[16.0, 30.0]\n",
    "ylim=[0.0, 1.0],\n",
    "S=8\n",
    "title=None\n",
    "cmap='inferno'\n",
    "dim=2\n",
    "dx = 0.1\n",
    "vline=None\n",
    "p='cm'\n",
    "mcol='true_bdf_mag_deredden'\n",
    "    \n",
    "cat = det\n",
    "bands = 'i'\n",
    "    \n",
    "bindx = dict(zip('griz', range(4)))\n",
    "\n",
    "N = (2. / dx) + 1\n",
    "mag_min, mag_max = xlim[0], xlim[1]\n",
    "bins = np.linspace(mag_min, mag_max, N)\n",
    "\n",
    "IN_BIN = {}\n",
    "DET = {}\n",
    "EFF = {}\n",
    "EFF_ERR = {}\n",
    "MAG = {}\n",
    "\n",
    "for x in [IN_BIN, DET, EFF, EFF_ERR, MAG]:\n",
    "    for band in bands:\n",
    "        x[band] = []\n",
    "\n",
    "for band in bands:\n",
    "    print('Band {}'.format(band))\n",
    "    bi = bindx[band]\n",
    "    for i, bstart in enumerate(bins):\n",
    "        if i == len(bins)-1:\n",
    "            break\n",
    "            \n",
    "        b1, b2 = bins[i], bins[i+1]\n",
    "            # print 'i, bins[i], bins[i+1] = ',i, bins[i], bins[i+1]\n",
    "\n",
    "#             in_bin = len(cat[(bins[i]<=cat[mcol][:,bi]) & (cat[mcol][:,bi]<bins[i+1])])\n",
    "#             det = len(cat[(bins[i]<=cat[mcol][:,bi]) &\n",
    "#                     (cat[mcol][:,bi]<bins[i+1]) &\n",
    "#                     (cat['detected']==1)])\n",
    "\n",
    "        in_bin = (cat[mcol][:,bi] >= b1) & (cat[mcol][:,bi] < b2)\n",
    "    \n",
    "        in\n",
    "    \n",
    "        detected = in_bin & (cat['detected'] == 1)\n",
    "        \n",
    "        N_in_bin = len(cat[in_bin])\n",
    "        N_det = len(cat[detected])\n",
    "    \n",
    "        try:\n",
    "            eff = 100. * N_det / N_in_bin\n",
    "        except ZeroDivisionError:\n",
    "            eff = 0.0\n",
    "\n",
    "        mag = np.mean([bins[i], bins[i+1]])\n",
    "\n",
    "        try:\n",
    "            eff_err = eff * np.sqrt( (1. / det) + (1. / det) )\n",
    "        except ZeroDivisionError:\n",
    "            eff_err = 0.0\n",
    "\n",
    "        IN_BIN[band].append(in_bin)\n",
    "        DET[band].append(det)\n",
    "        EFF[band].append(eff)\n",
    "        EFF_ERR[band].append(eff_err)\n",
    "        MAG[band].append(mag)\n",
    "\n",
    "bk = 0\n",
    "for band in bands:\n",
    "    # ax = plt.subplot(2, 2, bi+1)\n",
    "\n",
    "    plt.errorbar(MAG[band], EFF[band], EFF_ERR[band], fmt='o', ms=8, label=band)\n",
    "    # plt.gca().axhline(0, ls='--', c='k', lw=4)\n",
    "    # med = np.median(diff[cuts])\n",
    "    # ax.axhline(med, ls=':', c='w', lw=3, label='Median={:.3f}'.format(med))\n",
    "    # cb = plt.colorbar(hb, ax=ax)\n",
    "    # legend = plt.legend(bbox_to_anchor=(0.6, 0.925), bbox_transform=ax.transAxes, fontsize=18)\n",
    "    # plt.setp(legend.get_texts(), color='w')\n",
    "\n",
    "    # label = val\n",
    "    # if self.use_deredden is True:\n",
    "    #     label += ' (dereddened)'\n",
    "\n",
    "    # for item in ([ax.title, ax.xaxis.label, ax.yaxis.label] +\n",
    "    #             ax.get_xticklabels() + ax.get_yticklabels()):\n",
    "    #     item.set_fontsize(20)\n",
    "\n",
    "if title: plt.suptitle(title)\n",
    "ax = plt.gca()\n",
    "ax.set_xlabel('True bdf_mag_deredden')\n",
    "ax.set_ylabel('Detection Efficiency')\n",
    "plt.legend()\n",
    "\n",
    "if vline is not None:\n",
    "    plt.axvline(vline, linewidth=2, ls='--', color='k')\n",
    "\n",
    "plt.gcf().set_size_inches(S, S)"
   ]
  },
  {
   "cell_type": "code",
   "execution_count": 26,
   "metadata": {},
   "outputs": [
    {
     "data": {
      "text/plain": [
       "{'i': [100.0,\n",
       "  100.0,\n",
       "  100.0,\n",
       "  100.0,\n",
       "  100.0,\n",
       "  100.0,\n",
       "  100.0,\n",
       "  100.0,\n",
       "  100.0,\n",
       "  100.0,\n",
       "  100.0,\n",
       "  100.0,\n",
       "  100.0,\n",
       "  100.0,\n",
       "  100.0,\n",
       "  100.0,\n",
       "  100.0,\n",
       "  100.0,\n",
       "  100.0,\n",
       "  100.0]}"
      ]
     },
     "execution_count": 26,
     "metadata": {},
     "output_type": "execute_result"
    }
   ],
   "source": [
    "EFF"
   ]
  },
  {
   "cell_type": "code",
   "execution_count": null,
   "metadata": {},
   "outputs": [],
   "source": []
  }
 ],
 "metadata": {
  "kernelspec": {
   "display_name": "balrog-plots",
   "language": "python",
   "name": "balrog-plots"
  },
  "language_info": {
   "codemirror_mode": {
    "name": "ipython",
    "version": 3
   },
   "file_extension": ".py",
   "mimetype": "text/x-python",
   "name": "python",
   "nbconvert_exporter": "python",
   "pygments_lexer": "ipython3",
   "version": "3.7.5"
  }
 },
 "nbformat": 4,
 "nbformat_minor": 4
}
