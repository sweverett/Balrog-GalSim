{
 "cells": [
  {
   "cell_type": "code",
   "execution_count": 1,
   "metadata": {},
   "outputs": [],
   "source": [
    "import numpy as np\n",
    "import fitsio\n",
    "import matplotlib.pyplot as plt\n",
    "from astropy.table import Table\n",
    "\n",
    "%matplotlib inline"
   ]
  },
  {
   "cell_type": "code",
   "execution_count": 3,
   "metadata": {},
   "outputs": [],
   "source": [
    "run2_det_file = '/project/projectdirs/des/severett/Balrog/run2/stacked_catalogs/1.4/sof/balrog_detection_catalog_sof_run2_v1.4.fits'\n",
    "run2a_det_file = '/project/projectdirs/des/severett/Balrog/run2a/stacked_catalogs/1.4/sof/balrog_detection_catalog_sof_run2a_v1.4.fits'\n",
    "run2a_mag_det_file = '/project/projectdirs/des/severett/Balrog/run2a-mag/stacked_catalogs/1.4/sof/balrog_detection_catalog_sof_run2a-mag_v1.4.fits'\n",
    "run2_grid_file = '/project/projectdirs/des/severett/Balrog/run2-gridtest/stacked_catalogs/1.4/sof/balrog_detection_catalog_sof_run2-gridtest_v1.4.fits'\n",
    "# run2_clusters = '/project/projectdirs/des/severett/Balrog/'\n",
    "\n",
    "run2 = Table.read(run2_det_file)\n",
    "run2a = Table.read(run2a_det_file)\n",
    "run2a_mag = Table.read(run2a_mag_det_file)\n",
    "run2_grid = Table.read(run2_grid_file)"
   ]
  },
  {
   "cell_type": "code",
   "execution_count": 5,
   "metadata": {},
   "outputs": [
    {
     "name": "stdout",
     "output_type": "stream",
     "text": [
      "run2: 19959472 injections, 7364568 detections, 0.3690 det fraction\n"
     ]
    }
   ],
   "source": [
    "N = len(run2)\n",
    "det = len(run2[run2['detected']==1])\n",
    "det_f = 1. * det / N\n",
    "print(f'run2: {N} injections, {det} detections, {det_f:.4f} det fraction')"
   ]
  },
  {
   "cell_type": "code",
   "execution_count": 9,
   "metadata": {},
   "outputs": [
    {
     "name": "stdout",
     "output_type": "stream",
     "text": [
      "starting run2\n",
      "run2: 19959472 injections, 7364568 detections, 0.3690 det fraction, 16.32 mean inj_counts\n",
      "starting run2a\n",
      "run2a: 6482663 injections, 3886279 detections, 0.5995 det fraction, 8.76 mean inj_counts\n",
      "starting run2a-mag\n",
      "run2a-mag: 6482662 injections, 3935607 detections, 0.6071 det fraction, 8.76 mean inj_counts\n",
      "starting run2-grid\n",
      "run2-grid: 2323604 injections, 1631119 detections, 0.7020 det fraction, 3.28 mean inj_counts\n"
     ]
    }
   ],
   "source": [
    "for run, name in zip([run2, run2a, run2a_mag, run2_grid], ['run2', 'run2a', 'run2a-mag', 'run2-grid']):\n",
    "    print(f'starting {name}')\n",
    "    N = len(run)\n",
    "    det = len(run[run['detected']==1])\n",
    "    det_f = 1. * det / N\n",
    "    u, cnts = np.unique(run['true_id'], return_counts=True)\n",
    "    mcnt = np.mean(cnts)\n",
    "    print(f'{name}: {N} injections, {det} detections, {det_f:.4f} det fraction, {mcnt:.2f} mean inj_counts')"
   ]
  },
  {
   "cell_type": "code",
   "execution_count": null,
   "metadata": {},
   "outputs": [],
   "source": []
  }
 ],
 "metadata": {
  "kernelspec": {
   "display_name": "balrog-plots",
   "language": "python",
   "name": "balrog-plots"
  },
  "language_info": {
   "codemirror_mode": {
    "name": "ipython",
    "version": 3
   },
   "file_extension": ".py",
   "mimetype": "text/x-python",
   "name": "python",
   "nbconvert_exporter": "python",
   "pygments_lexer": "ipython3",
   "version": "3.7.5"
  }
 },
 "nbformat": 4,
 "nbformat_minor": 4
}
