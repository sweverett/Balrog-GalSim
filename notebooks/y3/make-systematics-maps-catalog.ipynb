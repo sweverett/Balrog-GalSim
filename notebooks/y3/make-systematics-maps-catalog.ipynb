{
 "cells": [
  {
   "cell_type": "code",
   "execution_count": 28,
   "metadata": {},
   "outputs": [],
   "source": [
    "import fitsio\n",
    "import h5py\n",
    "import numpy as np"
   ]
  },
  {
   "cell_type": "code",
   "execution_count": 2,
   "metadata": {},
   "outputs": [],
   "source": [
    "mastercat_file = '/project/projectdirs/des/www/y3_cats/Y3_mastercat_03_31_20.h5'"
   ]
  },
  {
   "cell_type": "code",
   "execution_count": 32,
   "metadata": {},
   "outputs": [
    {
     "name": "stdout",
     "output_type": "stream",
     "text": [
      "Grabbing dtypes...\n",
      "Initializing...\n",
      "Loading in sof_cm_mag_corrected_z...\n"
     ]
    },
    {
     "ename": "ValueError",
     "evalue": "could not convert string to float: 'DES2105-0124'",
     "output_type": "error",
     "traceback": [
      "\u001b[0;31m---------------------------------------------------------------------------\u001b[0m",
      "\u001b[0;31mValueError\u001b[0m                                Traceback (most recent call last)",
      "\u001b[0;32m<ipython-input-32-c7244ada5654>\u001b[0m in \u001b[0;36m<module>\u001b[0;34m\u001b[0m\n\u001b[1;32m     27\u001b[0m     \u001b[0mprint\u001b[0m\u001b[0;34m(\u001b[0m\u001b[0;34mf'Loading in {col}...'\u001b[0m\u001b[0;34m)\u001b[0m\u001b[0;34m\u001b[0m\u001b[0;34m\u001b[0m\u001b[0m\n\u001b[1;32m     28\u001b[0m     \u001b[0;32mfor\u001b[0m \u001b[0mcol\u001b[0m \u001b[0;32min\u001b[0m \u001b[0mcols\u001b[0m\u001b[0;34m:\u001b[0m\u001b[0;34m\u001b[0m\u001b[0;34m\u001b[0m\u001b[0m\n\u001b[0;32m---> 29\u001b[0;31m         \u001b[0mt\u001b[0m\u001b[0;34m[\u001b[0m\u001b[0mcol\u001b[0m\u001b[0;34m]\u001b[0m \u001b[0;34m=\u001b[0m \u001b[0mh\u001b[0m\u001b[0;34m[\u001b[0m\u001b[0;34mf'catalog/gold/{col}'\u001b[0m\u001b[0;34m]\u001b[0m\u001b[0;34m[\u001b[0m\u001b[0;34m:\u001b[0m\u001b[0;34m]\u001b[0m\u001b[0;34m\u001b[0m\u001b[0;34m\u001b[0m\u001b[0m\n\u001b[0m",
      "\u001b[0;31mValueError\u001b[0m: could not convert string to float: 'DES2105-0124'"
     ]
    }
   ],
   "source": [
    "dtypes = []\n",
    "\n",
    "cols = ['coadd_object_id', 'ra', 'dec', 'tilename', 'extended_class_sof', 'flags_gold', 'flags_foreground',\n",
    "        'flags_footprint', 'flags_badregions', 'sof_cm_mag_corrected_g', 'sof_cm_mag_corrected_r', 'sof_cm_mag_corrected_i', 'sof_cm_mag_corrected_z']\n",
    "\n",
    "print('Grabbing dtypes...')\n",
    "k = 0\n",
    "with h5py.File(mastercat_file, 'r') as h:\n",
    "    if k == 0:\n",
    "        N = len(h['catalog/gold/sof_cm_mag_corrected_g'])\n",
    "        k += 1\n",
    "\n",
    "    for col in cols:\n",
    "        dtypes.append(h['catalog/gold/sof_cm_mag_corrected_g'].dtype)\n",
    "\n",
    "   \n",
    "print('Initializing...')\n",
    "d = list(zip(cols, dtypes))\n",
    "t = np.zeros(N, dtype=d)\n",
    "\n",
    "k = 0\n",
    "with h5py.File(mastercat_file, 'r') as h:\n",
    "#     if k == 0:\n",
    "#         N = len(h['catalog/gold/sof_cm_mag_corrected_g'])\n",
    "#         k += 1\n",
    "\n",
    "    print(f'Loading in {col}...')\n",
    "    for col in cols:\n",
    "        t[col] = h[f'catalog/gold/{col}'][:]\n",
    "        \n",
    "outfile = '/project/proj'"
   ]
  },
  {
   "cell_type": "code",
   "execution_count": 33,
   "metadata": {},
   "outputs": [
    {
     "data": {
      "text/plain": [
       "array([(3.33409903e+08,  45.00144133,  0.00370761, 0., 0., 0., 0., 0., 0., 0., 0., 0., 0.),\n",
       "       (3.33409762e+08,  44.99611345,  0.00566094, 0., 0., 0., 0., 0., 0., 0., 0., 0., 0.),\n",
       "       (3.33409662e+08,  44.99725347,  0.01044044, 0., 0., 0., 0., 0., 0., 0., 0., 0., 0.),\n",
       "       ...,\n",
       "       (1.77685782e+08, 316.37840953, -1.17450423, 0., 0., 0., 0., 0., 0., 0., 0., 0., 0.),\n",
       "       (1.77685846e+08, 316.37351717, -1.17049769, 0., 0., 0., 0., 0., 0., 0., 0., 0., 0.),\n",
       "       (1.77685832e+08, 316.37604059, -1.16994346, 0., 0., 0., 0., 0., 0., 0., 0., 0., 0.)],\n",
       "      dtype=[('coadd_object_id', '>f8'), ('ra', '>f8'), ('dec', '>f8'), ('tilename', '>f8'), ('extended_class_sof', '>f8'), ('flags_gold', '>f8'), ('flags_foreground', '>f8'), ('flags_footprint', '>f8'), ('flags_badregions', '>f8'), ('sof_cm_mag_corrected_g', '>f8'), ('sof_cm_mag_corrected_r', '>f8'), ('sof_cm_mag_corrected_i', '>f8'), ('sof_cm_mag_corrected_z', '>f8')])"
      ]
     },
     "execution_count": 33,
     "metadata": {},
     "output_type": "execute_result"
    }
   ],
   "source": [
    "t"
   ]
  },
  {
   "cell_type": "code",
   "execution_count": 39,
   "metadata": {},
   "outputs": [
    {
     "data": {
      "text/plain": [
       "399263026"
      ]
     },
     "execution_count": 39,
     "metadata": {},
     "output_type": "execute_result"
    }
   ],
   "source": [
    "N"
   ]
  },
  {
   "cell_type": "code",
   "execution_count": 30,
   "metadata": {},
   "outputs": [
    {
     "data": {
      "text/plain": [
       "array([(0., 0., 0., 0., 0., 0., 0., 0., 0., 0., 0., 0., 0.),\n",
       "       (0., 0., 0., 0., 0., 0., 0., 0., 0., 0., 0., 0., 0.),\n",
       "       (0., 0., 0., 0., 0., 0., 0., 0., 0., 0., 0., 0., 0.), ...,\n",
       "       (0., 0., 0., 0., 0., 0., 0., 0., 0., 0., 0., 0., 0.),\n",
       "       (0., 0., 0., 0., 0., 0., 0., 0., 0., 0., 0., 0., 0.),\n",
       "       (0., 0., 0., 0., 0., 0., 0., 0., 0., 0., 0., 0., 0.)],\n",
       "      dtype=[('coadd_object_id', '>f8'), ('ra', '>f8'), ('dec', '>f8'), ('tilename', '>f8'), ('extended_class_sof', '>f8'), ('flags_gold', '>f8'), ('flags_foreground', '>f8'), ('flags_footprint', '>f8'), ('flags_badregions', '>f8'), ('sof_cm_mag_corrected_g', '>f8'), ('sof_cm_mag_corrected_r', '>f8'), ('sof_cm_mag_corrected_i', '>f8'), ('sof_cm_mag_corrected_z', '>f8')])"
      ]
     },
     "execution_count": 30,
     "metadata": {},
     "output_type": "execute_result"
    }
   ],
   "source": [
    "t"
   ]
  },
  {
   "cell_type": "code",
   "execution_count": 35,
   "metadata": {},
   "outputs": [
    {
     "data": {
      "text/plain": [
       "[('coadd_object_id', dtype('>f8')),\n",
       " ('ra', dtype('>f8')),\n",
       " ('dec', dtype('>f8')),\n",
       " ('tilename', dtype('>f8')),\n",
       " ('extended_class_sof', dtype('>f8')),\n",
       " ('flags_gold', dtype('>f8')),\n",
       " ('flags_foreground', dtype('>f8')),\n",
       " ('flags_footprint', dtype('>f8')),\n",
       " ('flags_badregions', dtype('>f8')),\n",
       " ('sof_cm_mag_corrected_g', dtype('>f8')),\n",
       " ('sof_cm_mag_corrected_r', dtype('>f8')),\n",
       " ('sof_cm_mag_corrected_i', dtype('>f8')),\n",
       " ('sof_cm_mag_corrected_z', dtype('>f8'))]"
      ]
     },
     "execution_count": 35,
     "metadata": {},
     "output_type": "execute_result"
    }
   ],
   "source": [
    "d"
   ]
  },
  {
   "cell_type": "code",
   "execution_count": 37,
   "metadata": {},
   "outputs": [
    {
     "name": "stdout",
     "output_type": "stream",
     "text": [
      "True\n"
     ]
    }
   ],
   "source": [
    "mastercat_file = '/project/projectdirs/des/www/y3_cats/Y3_mastercat_03_31_20.h5'\n",
    "with h5py.File(mastercat_file, 'r') as h:\n",
    "    print('extended_class_sof' in h['catalog/gold'].keys())"
   ]
  },
  {
   "cell_type": "code",
   "execution_count": 38,
   "metadata": {},
   "outputs": [
    {
     "name": "stdout",
     "output_type": "stream",
     "text": [
      "total 1167341075\n",
      "-rw-r--r-- 1 troxel   des 217777464544 Oct 15 12:37 Y3_GOLD_2_2.1_12_3_19.h5\n",
      "-rw-r--r-- 1 troxel   des  10400071352 Dec  4  2019 Y3_GOLD_2_2.1_BPZ_12_3_19.h5\n",
      "-rw-rw-r-- 1 troxel   des   3920281992 Jun  4  2019 Y3_GOLD_2_2.1_BPZ_subsampled.h5\n",
      "-rw-r--r-- 1 troxel   des   6400054312 Dec  4  2019 Y3_GOLD_2_2.1_DNF_12_3_19.h5\n",
      "-rw-rw-r-- 1 troxel   des   1920196104 Jun  4  2019 Y3_GOLD_2_2.1_DNF_subsampled.h5\n",
      "-rw-rw-r-- 1 troxel   des  10968899648 Jun  4  2019 Y3_GOLD_2_2.1_subsampled.h5\n",
      "-rw-r--r-- 1 troxel   des   6656082824 Dec  4  2019 Y3_GOLD_2_2_1_maps_12_3_19.h5\n",
      "-rw-rw-r-- 1 troxel   des    722339200 Jun  4  2019 Y3_GOLD_2_2_1_maps_subsampled.h5\n",
      "-rw-rw-r-- 1 troxel   des   9523484208 Sep 10 14:35 Y3_GOLD_2_2_1_regions.h5\n",
      "-rw-rw---- 1 troxel   des  32551559192 Oct 15 11:53 Y3_mastercat_03_31_20.h5\n",
      "-rw-r--r-- 1 troxel   des  35207522824 Dec 11  2019 Y3_mastercat_12_3_19.h5\n",
      "-rw-rw---- 1 troxel   des  35207522824 Mar  9  2020 Y3_mastercat_12_3_19_SOMv0.21.h5\n",
      "-rw-r--r-- 1 jelvinpo des          800 Oct  7  2019 Y3_mastercat_5_24_19.h5\n",
      "-rw-rw-r-- 1 troxel   des   2847372384 Jun 16  2019 Y3_mastercat_5_24_19_subsampled.h5\n",
      "-rw-rw-r-- 1 troxel   des   4444428240 Jun 15  2019 Y3_mastercat_6_15_19_subsampled.h5\n",
      "-rw-rw---- 1 aamon    des          800 Dec 10  2019 Y3_mastercat_7_24_19.h5\n",
      "drwxrws--- 3 troxel   des         4096 Apr 10  2020 \u001b[0m\u001b[01;34mcats\u001b[0m/\n",
      "-rw-rw-r-- 1 troxel   des         1774 Apr 10  2020 cats.yaml\n",
      "-rw-rw-r-- 1 troxel   des         1750 Apr 10  2020 cats.yaml~\n",
      "-rw-rw-r-- 1 aamon    des    493969640 May 13 09:10 deep_ugriz.mof02_sn.jhk.ff04_c.jhk.ff02_052020_realerrors.pkl\n",
      "-rw-rw-r-- 1 troxel   des         5455 Apr 13  2020 example.py\n",
      "-rw-rw-r-- 1 troxel   des         5368 Apr 10  2020 example.py~\n",
      "-rw-rw-r-- 1 troxel   des   6944046200 Sep 23 03:45 maglim_v2.2.h5\n",
      "-rw-r--r-- 1 aamon    des   1990212480 May 13 09:10 run-JHK-mof02_ff04_ff02_extcorr_24Apr20.fits\n",
      "-rw-r----- 1 aamon    des   2872232640 May 13 09:10 run-ugriz-mof02_extcorr_24Apr20.fits\n",
      "-rwxr-xr-x 1 troxel   des  36770226504 Dec  4  2019 \u001b[01;32msompz_v0.132_12_3_2019.h5\u001b[0m*\n",
      "-rwxrwx--- 1 aamon    des  36792605240 Mar  9  2020 \u001b[01;32msompz_v0.21_03_03_2020.h5\u001b[0m*\n",
      "-rwxrwx--- 1 troxel   des  36792672616 Oct 15 12:39 \u001b[01;32msompz_v0.40_08_04_2020.h5\u001b[0m*\n",
      "-rw-rw---- 1 troxel   des  33119307726 Sep 22 09:50 y3_gold_2.2.1_wide_sofcol_run_redmapper_v0.5.1_redmagic_12_3_19.h5\n",
      "-rw-rw---- 1 troxel   des  23807246582 Aug 11 18:31 y3_gold_2.2.1_wide_sofcol_run_redmapper_v0.5.1_redmagic_12_3_19b.h5\n",
      "-rw-rw-r-- 1 troxel   des   1244046295 Jun  4  2019 y3_gold_2.2.1_wide_sofcol_run_redmapper_v6.4.22_subsampled.h5\n",
      "-rw-rw-r-- 1 troxel   des   1245675142 Jan 31  2020 y3_gold_2.2.1_wide_sofcol_run_redmapper_v6.4.22_wv1.2_subsampled.h5\n",
      "-rw-rw-r-- 1 troxel   des  29601652104 Jun  4  2019 y3v02-mcal-003-v1_subsampled.h5\n",
      "-rw-r--r-- 1 troxel   des 296037774176 Dec  4  2019 y3v02-mcal-004-v2_12_3_19.h5\n",
      "-rw-rw---- 1 troxel   des 312037859376 Oct 15 12:37 y3v02-mcal-004-v3_03_16_20.h5\n"
     ]
    }
   ],
   "source": [
    "ls -l /project/projectdirs/des/www/y3_cats/"
   ]
  },
  {
   "cell_type": "code",
   "execution_count": null,
   "metadata": {},
   "outputs": [],
   "source": []
  }
 ],
 "metadata": {
  "kernelspec": {
   "display_name": "balrog-plots",
   "language": "python",
   "name": "balrog-plots"
  },
  "language_info": {
   "codemirror_mode": {
    "name": "ipython",
    "version": 3
   },
   "file_extension": ".py",
   "mimetype": "text/x-python",
   "name": "python",
   "nbconvert_exporter": "python",
   "pygments_lexer": "ipython3",
   "version": "3.7.5"
  }
 },
 "nbformat": 4,
 "nbformat_minor": 4
}
