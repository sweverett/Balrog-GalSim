{
 "cells": [
  {
   "cell_type": "code",
   "execution_count": 1,
   "metadata": {},
   "outputs": [],
   "source": [
    "import fitsio\n",
    "from astropy.io import fits\n",
    "from astropy.table import Table, vstack, join\n",
    "import numpy as np\n",
    "import h5py\n",
    "import matplotlib.pyplot as plt\n",
    "import pandas as pd\n",
    "\n",
    "%matplotlib inline"
   ]
  },
  {
   "cell_type": "code",
   "execution_count": 2,
   "metadata": {},
   "outputs": [],
   "source": [
    "def calc_gold_cuts(cat, flags_gold_colname='FLAGS_GOLD_SOF_ONLY'):\n",
    "    gold_cuts = np.where( (cat['flags_foreground'] == 0) &\n",
    "                          (cat['flags_badregions'] < 2) &\n",
    "                          (cat['flags_footprint'] == 1) &\n",
    "                          (cat[flags_gold_colname] < 2)\n",
    "                        )\n",
    "    return gold_cuts\n",
    "\n",
    "def calc_gold_photometry_cuts(cat, flags_gold_colname='FLAGS_GOLD_SOF_ONLY'):\n",
    "    gold_phot_cuts = np.where( (cat['flags_foreground'] == 0) &\n",
    "                          (cat['flags_badregions'] < 2) &\n",
    "                          (cat['flags_footprint'] == 1) &\n",
    "                          (cat[flags_gold_colname] < 8)\n",
    "                        )\n",
    "    return gold_phot_cuts\n",
    "\n",
    "def calc_shape_cuts(cat):\n",
    "    shape_cuts = np.where( (cat['flags'] == 0) &\n",
    "                           (cat['size_ratio'] > 0.5) &\n",
    "                           (cat['snr'] > 10) &\n",
    "                           (cat['snr'] < 1000)\n",
    "                          )\n",
    "    return shape_cuts\n",
    "\n",
    "def apply_sompz_cuts(self, use_match_flag=True):\n",
    "    '''\n",
    "    This is the same as \"selection2\"\n",
    "    '''\n",
    "    self._check_for_cols(self._sompz_cut_cols)\n",
    "\n",
    "    # Mag & color cuts\n",
    "    color_cuts = np.where( (cat['mag_i'] >= 18.) &\n",
    "                           (cat['mag_i'] <= 23.5) &\n",
    "                           (cat['mag_r'] >= 15.) &\n",
    "                           (cat['mag_r'] <= 26.) &\n",
    "                           (cat['mag_z'] >= 15.) &\n",
    "                           (cat['mag_z'] <= 26.) &\n",
    "                           ((cat['mag_z'] - cat['mag_i']) <= 1.5) &\n",
    "                           ((cat['mag_z'] - cat['mag_i']) >= -4.) &\n",
    "                           ((cat['mag_r'] - cat['mag_i']) <= 4.) &\n",
    "                           ((cat['mag_r'] - cat['mag_i']) >= -1.5)\n",
    "                          )\n",
    "\n",
    "    self.apply_cut(color_cuts)\n",
    "\n",
    "    # Binary star cut, taken from Alex A.\n",
    "    highe_cut = np.greater(np.sqrt(np.power(cat['e_1'],2.)\n",
    "                           + np.power(cat['e_2'],2)), 0.8)\n",
    "\n",
    "    c = 22.5\n",
    "    m = 3.5\n",
    "\n",
    "    magT_cut = np.log10(cat['T']) < (c - self.flux2mag(cat['flux_r'])) / m\n",
    "\n",
    "    binaries = highe_cut * magT_cut\n",
    "\n",
    "    return ~binaries\n",
    "    \n",
    "    return \n",
    "\n",
    "def calc_match_flag_cut(cat, match_flag_col='match_flag_1.5_asec'):\n",
    "    match_flag_cut = np.where(cat[match_flag_col] < 2)\n",
    "    return match_flag_cut\n"
   ]
  },
  {
   "cell_type": "code",
   "execution_count": 3,
   "metadata": {},
   "outputs": [],
   "source": [
    "run = 'y3-merged'\n",
    "ver = '1.2'"
   ]
  },
  {
   "cell_type": "code",
   "execution_count": 4,
   "metadata": {},
   "outputs": [],
   "source": [
    "match_file = '/project/projectdirs/des/severett/Balrog/{}/stacked_catalogs/{}/sof/balrog_matched_catalog_sof_{}_v{}.fits'.format(run, ver, run, ver)\n",
    "det_file = '/project/projectdirs/des/severett/Balrog/{}/stacked_catalogs/{}/sof/balrog_detection_catalog_sof_{}_v{}.fits'.format(run, ver, run, ver)\n",
    "mcal_file = '/project/projectdirs/des/severett/Balrog/{}/stacked_catalogs/{}/mcal/balrog_mcal_stack-y3v02-0-riz-noNB-mcal_{}_v{}.h5'.format(run, ver, run, ver)\n",
    "\n",
    "with fits.open(match_file) as hdu:\n",
    "    match_cols = hdu[1].columns.names\n",
    "    \n",
    "with fits.open(det_file) as hdu:\n",
    "    det_cols = hdu[1].columns.names\n",
    "    \n",
    "# with h5py.File(mcal_file) as mcal:\n",
    "    "
   ]
  },
  {
   "cell_type": "code",
   "execution_count": 13,
   "metadata": {},
   "outputs": [
    {
     "name": "stdout",
     "output_type": "stream",
     "text": [
      "Loading det...\n",
      "len(det) = 26442133\n",
      "                    bal_id  det_index\n",
      "0             100156035400          0\n",
      "1             102037044570          1\n",
      "2             100530030400          2\n",
      "3             100010040400          3\n",
      "4             100521042490          4\n",
      "...                    ...        ...\n",
      "26442128  1005410224913037   26442128\n",
      "26442129  1002380441413081   26442129\n",
      "26442130  1003480491413068   26442130\n",
      "26442131  1003060324913071   26442131\n",
      "26442132  1006000391413076   26442132\n",
      "\n",
      "[26442133 rows x 2 columns]\n"
     ]
    }
   ],
   "source": [
    "print('Loading det...')\n",
    "det = pd.DataFrame(fitsio.read(det_file, columns=['bal_id']).byteswap().newbyteorder())\n",
    "det['det_index'] = det.index\n",
    "print(f'len(det) = {len(det)}')\n",
    "print(det)"
   ]
  },
  {
   "cell_type": "code",
   "execution_count": 14,
   "metadata": {},
   "outputs": [
    {
     "name": "stdout",
     "output_type": "stream",
     "text": [
      "Loading match...\n",
      "len(match) = 11250845\n",
      "                    bal_id  match_index\n",
      "0          100402021246920            0\n",
      "1          100402021248530            1\n",
      "2          100402021246434            2\n",
      "3          100402021246217            3\n",
      "4          100402021245800            4\n",
      "...                    ...          ...\n",
      "11250840  1000400233212826     11250840\n",
      "11250841   100040023321450     11250841\n",
      "11250842   100040023325968     11250842\n",
      "11250843   100040023329128     11250843\n",
      "11250844   100040023326952     11250844\n",
      "\n",
      "[11250845 rows x 2 columns]\n"
     ]
    }
   ],
   "source": [
    "print('Loading match...')\n",
    "match = pd.DataFrame(fitsio.read(match_file, columns=['bal_id']).byteswap().newbyteorder())\n",
    "match['match_index'] = match.index\n",
    "print(f'len(match) = {len(match)}')\n",
    "print(match)"
   ]
  },
  {
   "cell_type": "code",
   "execution_count": 16,
   "metadata": {},
   "outputs": [
    {
     "name": "stdout",
     "output_type": "stream",
     "text": [
      "joining...\n",
      "len(joined) = 11250845\n",
      "                    bal_id  match_index  det_index\n",
      "0          100402021246920            0   13941048\n",
      "1          100402021248530            1   17110873\n",
      "2          100402021246434            2   12989101\n",
      "3          100402021246217            3   12539828\n",
      "4          100402021245800            4   11658202\n",
      "...                    ...          ...        ...\n",
      "11250840  1000400233212826     11250840   25926536\n",
      "11250841   100040023321450     11250841    3066081\n",
      "11250842   100040023325968     11250842   12325810\n",
      "11250843   100040023329128     11250843   18737331\n",
      "11250844   100040023326952     11250844   14232807\n",
      "\n",
      "[11250845 rows x 3 columns]\n"
     ]
    }
   ],
   "source": [
    "print('joining...')\n",
    "joined = match.merge(det, how='inner', on='bal_id')\n",
    "print(f'len(joined) = {len(joined)}')\n",
    "print(joined)"
   ]
  },
  {
   "cell_type": "code",
   "execution_count": null,
   "metadata": {},
   "outputs": [],
   "source": [
    "joined.write()"
   ]
  },
  {
   "cell_type": "code",
   "execution_count": 9,
   "metadata": {},
   "outputs": [
    {
     "name": "stdout",
     "output_type": "stream",
     "text": [
      "<KeysViewHDF5 ['sheared_1m', 'sheared_1p', 'sheared_2m', 'sheared_2p', 'unsheared']>\n"
     ]
    }
   ],
   "source": [
    "with h5py.File(mcal_file) as mcal:\n",
    "    print(mcal['catalog'].keys())"
   ]
  },
  {
   "cell_type": "code",
   "execution_count": null,
   "metadata": {},
   "outputs": [],
   "source": [
    "mastercat_file = '/project/projectdirs/des/severett/Balrog/{}/stacked_catalogs/{}/sof/balrog_mastercat_sof_{}_v{}.fits'.format(run, ver, run, ver)\n",
    "\n",
    "if os.path.exists(mastercat_file):\n",
    "    os.remove(mastercat_file)\n",
    "\n",
    "with h5py.File(mastercat_file, 'rw') as mastercat:\n",
    "    mastercat.create_group('catalog')\n",
    "    mastercat.create_group('index')\n",
    "    \n",
    "        \n",
    "    "
   ]
  },
  {
   "cell_type": "code",
   "execution_count": null,
   "metadata": {},
   "outputs": [],
   "source": []
  },
  {
   "cell_type": "code",
   "execution_count": null,
   "metadata": {},
   "outputs": [],
   "source": []
  },
  {
   "cell_type": "code",
   "execution_count": 5,
   "metadata": {},
   "outputs": [
    {
     "name": "stdout",
     "output_type": "stream",
     "text": [
      "<KeysViewHDF5 ['catalog', 'index', 'maps', 'masks', 'randoms', 'regions']>\n"
     ]
    }
   ],
   "source": [
    "data_file = '/project/projectdirs/des/www/y3_cats/Y3_mastercat_03_31_20.h5'\n",
    "with h5py.File(data_file, 'r') as mcat:\n",
    "    print(mcat.keys())"
   ]
  },
  {
   "cell_type": "code",
   "execution_count": 10,
   "metadata": {},
   "outputs": [
    {
     "name": "stdout",
     "output_type": "stream",
     "text": [
      "total 40G\n",
      "5.7G balrog_detection_catalog_sof_y3-merged_v1.2.fits  1.0K nz-comparison\n",
      " 35G balrog_matched_catalog_sof_y3-merged_v1.2.fits\n"
     ]
    }
   ],
   "source": [
    "!ls -sh '/project/projectdirs/des/severett/Balrog/y3-merged/stacked_catalogs/1.2/sof/'"
   ]
  },
  {
   "cell_type": "code",
   "execution_count": null,
   "metadata": {},
   "outputs": [],
   "source": [
    "!ls '/project/projectdirs/des/severett/Balrog/y3-merged/stacked_catalogs/1.2/sof/'"
   ]
  },
  {
   "cell_type": "code",
   "execution_count": null,
   "metadata": {},
   "outputs": [],
   "source": []
  }
 ],
 "metadata": {
  "kernelspec": {
   "display_name": "balrog-plots",
   "language": "python",
   "name": "balrog-plots"
  },
  "language_info": {
   "codemirror_mode": {
    "name": "ipython",
    "version": 3
   },
   "file_extension": ".py",
   "mimetype": "text/x-python",
   "name": "python",
   "nbconvert_exporter": "python",
   "pygments_lexer": "ipython3",
   "version": "3.7.5"
  }
 },
 "nbformat": 4,
 "nbformat_minor": 4
}
